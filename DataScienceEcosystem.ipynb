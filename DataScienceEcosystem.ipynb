{
 "cells": [
  {
   "cell_type": "markdown",
   "id": "6f2a7a7a",
   "metadata": {},
   "source": [
    "# Data Science Tools and Ecosystem"
   ]
  },
  {
   "cell_type": "markdown",
   "id": "3473f313",
   "metadata": {},
   "source": [
    "**In this notebook, Data Science Tools and Ecosystem are summarized.**"
   ]
  },
  {
   "cell_type": "markdown",
   "id": "52d99fba",
   "metadata": {},
   "source": [
    "Some of the popular languages that Data Scientists use are:"
   ]
  },
  {
   "cell_type": "markdown",
   "id": "2b5c3447",
   "metadata": {},
   "source": [
    "1. Python\n",
    "2. R\n",
    "3. SQL"
   ]
  },
  {
   "cell_type": "markdown",
   "id": "cf6ef5fd",
   "metadata": {},
   "source": [
    "Some of the commonly used libraries by Data Scientists include:"
   ]
  },
  {
   "cell_type": "markdown",
   "id": "86ed91c1",
   "metadata": {},
   "source": [
    "1. **pandas**\n",
    "\n",
    "2. **scikit-learn**\n",
    "\n",
    "3. **matplotlib**\n",
    "\n",
    "4. **TensorFlow**\n",
    "\n",
    "5. **PyTorch**"
   ]
  },
  {
   "cell_type": "markdown",
   "id": "084e3c53",
   "metadata": {},
   "source": [
    "| Data Science Tools        |\n",
    "|---------------------------|\n",
    "| 1. Jupyter Notebook       |\n",
    "| 2. RStudio                |\n",
    "| 3. VS Code (Visual Studio Code) |\n"
   ]
  },
  {
   "cell_type": "markdown",
   "id": "b35d13b2",
   "metadata": {},
   "source": [
    "### Arithmetic Expression Examples\n",
    "\n",
    "In data science, arithmetic expressions are fundamental for performing various calculations and analyses. Let's explore some common examples of arithmetic expressions to understand their usage and importance.\n"
   ]
  },
  {
   "cell_type": "code",
   "execution_count": 1,
   "id": "22b3bd06",
   "metadata": {},
   "outputs": [
    {
     "data": {
      "text/plain": [
       "10"
      ]
     },
     "execution_count": 1,
     "metadata": {},
     "output_type": "execute_result"
    }
   ],
   "source": [
    "5+5"
   ]
  },
  {
   "cell_type": "code",
   "execution_count": 2,
   "id": "b5d6ee91",
   "metadata": {},
   "outputs": [
    {
     "data": {
      "text/plain": [
       "6"
      ]
     },
     "execution_count": 2,
     "metadata": {},
     "output_type": "execute_result"
    }
   ],
   "source": [
    "3*2"
   ]
  },
  {
   "cell_type": "code",
   "execution_count": 3,
   "id": "1796f787",
   "metadata": {},
   "outputs": [
    {
     "data": {
      "text/plain": [
       "5.0"
      ]
     },
     "execution_count": 3,
     "metadata": {},
     "output_type": "execute_result"
    }
   ],
   "source": [
    "15/3"
   ]
  },
  {
   "cell_type": "code",
   "execution_count": 4,
   "id": "36b31ff0",
   "metadata": {},
   "outputs": [
    {
     "data": {
      "text/plain": [
       "17"
      ]
     },
     "execution_count": 4,
     "metadata": {},
     "output_type": "execute_result"
    }
   ],
   "source": [
    "# This is a simple arithmetic expression to multiply, then add integers.\n",
    "result = (3 * 4) + 5\n",
    "result\n"
   ]
  },
  {
   "cell_type": "code",
   "execution_count": 5,
   "id": "fe18e4e7",
   "metadata": {},
   "outputs": [
    {
     "data": {
      "text/plain": [
       "3.3333333333333335"
      ]
     },
     "execution_count": 5,
     "metadata": {},
     "output_type": "execute_result"
    }
   ],
   "source": [
    "# This will convert 200 minutes to hours by dividing by 60.\n",
    "minutes = 200\n",
    "hours = minutes / 60\n",
    "hours\n"
   ]
  },
  {
   "cell_type": "markdown",
   "id": "80e9aed0",
   "metadata": {},
   "source": [
    "**Objectives:**\n",
    "\n",
    "- List popular languages for Data Science.\n",
    "- Identify commonly used libraries in Data Science.\n",
    "- Explore data science tools and development environments.\n",
    "- Understand arithmetic expression examples and their importance.\n",
    "- Convert units (e.g., minutes to hours) in data calculations.\n"
   ]
  },
  {
   "cell_type": "markdown",
   "id": "99b3a608",
   "metadata": {},
   "source": [
    "## Author\n",
    "\n",
    "Ziyad Alanazi\n"
   ]
  },
  {
   "cell_type": "code",
   "execution_count": null,
   "id": "0bd519da",
   "metadata": {},
   "outputs": [],
   "source": []
  }
 ],
 "metadata": {
  "kernelspec": {
   "display_name": "Python 3 (ipykernel)",
   "language": "python",
   "name": "python3"
  },
  "language_info": {
   "codemirror_mode": {
    "name": "ipython",
    "version": 3
   },
   "file_extension": ".py",
   "mimetype": "text/x-python",
   "name": "python",
   "nbconvert_exporter": "python",
   "pygments_lexer": "ipython3",
   "version": "3.11.5"
  }
 },
 "nbformat": 4,
 "nbformat_minor": 5
}
